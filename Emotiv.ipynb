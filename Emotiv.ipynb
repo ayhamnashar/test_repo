{
 "cells": [
  {
   "cell_type": "code",
   "execution_count": null,
   "metadata": {},
   "outputs": [
    {
     "name": "stdout",
     "output_type": "stream",
     "text": [
      "Ciphertext: b'E\\xd0\\x0c\\xbfL+\\xc4V*D\\xd7\\x16\\x11\\xe0'\n"
     ]
    }
   ],
   "source": [
    "import asyncio\n",
    "import websockets\n",
    "import json\n",
    "\n",
    "async def connect_to_emotiv():\n",
    "    uri = \"wss://localhost:6868\"  # Emotiv Cortex API WebSocket endpoint\n",
    "\n",
    "    async with websockets.connect(uri, ssl=True) as websocket:\n",
    "        # Authenticate with the Cortex API\n",
    "        auth_request = {\n",
    "            \"jsonrpc\": \"2.0\",\n",
    "            \"method\": \"authorize\",\n",
    "            \"params\": {\n",
    "                \"client_id\": \"<your_client_id>\",\n",
    "                \"client_secret\": \"<your_client_secret>\"\n",
    "            },\n",
    "            \"id\": 1\n",
    "        }\n",
    "        await websocket.send(json.dumps(auth_request))\n",
    "        response = await websocket.recv()\n",
    "        auth_response = json.loads(response)\n",
    "        print(\"Authorization Response:\", auth_response)\n",
    "\n",
    "        # Check for successful authorization\n",
    "        if 'result' in auth_response:\n",
    "            token = auth_response['result']['cortexToken']\n",
    "            \n",
    "            # Subscribe to EEG or performance metrics\n",
    "            subscribe_request = {\n",
    "                \"jsonrpc\": \"2.0\",\n",
    "                \"method\": \"subscribe\",\n",
    "                \"params\": {\n",
    "                    \"cortexToken\": token,\n",
    "                    \"streams\": [\"eeg\"]  # You can also use [\"pow\", \"met\", etc.]\n",
    "                },\n",
    "                \"id\": 2\n",
    "            }\n",
    "            await websocket.send(json.dumps(subscribe_request))\n",
    "            subscribe_response = await websocket.recv()\n",
    "            print(\"Subscription Response:\", subscribe_response)\n",
    "\n",
    "            # Read data from the stream\n",
    "            print(\"Receiving data...\")\n",
    "            while True:\n",
    "                data = await websocket.recv()\n",
    "                print(\"Stream Data:\", data)\n",
    "        else:\n",
    "            print(\"Authorization failed.\")\n",
    "\n",
    "# Run the asyncio event loop\n",
    "asyncio.run(connect_to_emotiv())\n"
   ]
  }
 ],
 "metadata": {
  "kernelspec": {
   "display_name": "Python 3",
   "language": "python",
   "name": "python3"
  },
  "language_info": {
   "codemirror_mode": {
    "name": "ipython",
    "version": 3
   },
   "file_extension": ".py",
   "mimetype": "text/x-python",
   "name": "python",
   "nbconvert_exporter": "python",
   "pygments_lexer": "ipython3",
   "version": "3.12.7"
  }
 },
 "nbformat": 4,
 "nbformat_minor": 2
}
